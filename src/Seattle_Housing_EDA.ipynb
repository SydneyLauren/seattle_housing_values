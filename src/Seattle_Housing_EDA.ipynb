{
 "cells": [
  {
   "cell_type": "markdown",
   "metadata": {},
   "source": [
    "### Import statements"
   ]
  },
  {
   "cell_type": "code",
   "execution_count": 1,
   "metadata": {
    "collapsed": false
   },
   "outputs": [],
   "source": [
    "from __future__ import division\n",
    "import pandas as pd\n",
    "import numpy as np\n",
    "import psycopg2\n",
    "import seattle_neighborhoods\n",
    "import matplotlib.pyplot as plt\n",
    "%matplotlib inline"
   ]
  },
  {
   "cell_type": "code",
   "execution_count": 2,
   "metadata": {
    "collapsed": true
   },
   "outputs": [],
   "source": [
    "def database_connect(dbnm, username):\n",
    "    '''\n",
    "    INPUT: name of existing postgres database, username\n",
    "    OUTPUT: database connection and cursor\n",
    "    Take database name and username and establish conncetion to database\n",
    "    '''\n",
    "    conn = psycopg2.connect(dbname=dbnm, user=username, host='/tmp')\n",
    "    c = conn.cursor()\n",
    "    return conn, c"
   ]
  },
  {
   "cell_type": "code",
   "execution_count": 3,
   "metadata": {
    "collapsed": true
   },
   "outputs": [],
   "source": [
    "def remove_rows(df, colname, colval):\n",
    "    '''\n",
    "    INPUT: dataframe, column name, column value\n",
    "    OUTPUT: dataframe\n",
    "    take a dataframe and remove all rows in which the value for colname = colval\n",
    "    '''\n",
    "    return df[df[colname] != colval]"
   ]
  },
  {
   "cell_type": "code",
   "execution_count": 9,
   "metadata": {
    "collapsed": true
   },
   "outputs": [],
   "source": [
    "def remove_outliers(df, colname, iqr_mult):\n",
    "    '''\n",
    "    INPUT: dataframe, column name, multiplier for inter quartile range\n",
    "    OUTPUT: dataframe\n",
    "    take a dataframe and return a dataframe with outliers removed\n",
    "    '''\n",
    "    print colname\n",
    "    q1 = df[colname].quantile(.25)\n",
    "    q3 = df[colname].quantile(.75)\n",
    "    iqr = df[colname].quantile(.75) - df[colname].quantile(.25)  # calculate interquartile range\n",
    "    df = df[df[colname] >= q1 - iqr * iqr_mult]  # remove low outliers\n",
    "    df = df[df[colname] <= q3 + iqr * iqr_mult]  # remove high outliers\n",
    "    return df"
   ]
  },
  {
   "cell_type": "markdown",
   "metadata": {},
   "source": [
    "### Connect to postgres SQL database and extract housing data for 2015 and 2015"
   ]
  },
  {
   "cell_type": "code",
   "execution_count": 10,
   "metadata": {
    "collapsed": false
   },
   "outputs": [],
   "source": [
    "conn, c = database_connect('housingdata_clean', 'sydneydecoto')\n",
    "\n",
    "c.execute(\"SELECT * FROM housing_data LIMIT 10\")\n",
    "data = c.fetchall()\n",
    "\n",
    "c.execute(\"SELECT v2015 FROM housing_data\")\n",
    "val2015 = c.fetchall()\n",
    "c.execute(\"SELECT v2016 FROM housing_data\")\n",
    "val2016 = c.fetchall()\n",
    "c.execute(\"SELECT hood FROM housing_data\")\n",
    "hoods = c.fetchall()\n",
    "conn.commit()\n",
    "conn.close()"
   ]
  },
  {
   "cell_type": "markdown",
   "metadata": {},
   "source": [
    "### Calculate percent increase in value from 2015 to 2016"
   ]
  },
  {
   "cell_type": "code",
   "execution_count": 11,
   "metadata": {
    "collapsed": false
   },
   "outputs": [
    {
     "name": "stdout",
     "output_type": "stream",
     "text": [
      "     Neighborhood  value_2015  value_2016  pct_inc16\n",
      "0        Atlantic      273000      294000   7.692308\n",
      "1     Portage Bay     1318000     1443000   9.484067\n",
      "2   Highland Park      198000      227000  14.646465\n",
      "3      Holly Park      303000      337000  11.221122\n",
      "4  Matthews Beach      420000      449000   6.904762\n"
     ]
    }
   ],
   "source": [
    "df = pd.DataFrame()\n",
    "df['Neighborhood'] = [hood_name[0] for hood_name in hoods]\n",
    "df['value_2015'] = [v[0] for v in val2015]\n",
    "df['value_2016'] = [v[0] for v in val2016]\n",
    "df['pct_inc16'] = (df['value_2016'] - df['value_2015']) / df['value_2015']*100.\n",
    "\n",
    "print df.head()"
   ]
  },
  {
   "cell_type": "markdown",
   "metadata": {},
   "source": [
    "### Data cleaning"
   ]
  },
  {
   "cell_type": "code",
   "execution_count": 12,
   "metadata": {
    "collapsed": false
   },
   "outputs": [
    {
     "name": "stdout",
     "output_type": "stream",
     "text": [
      "pct_inc16\n",
      "<class 'pandas.core.frame.DataFrame'>\n",
      "Int64Index: 32324 entries, 0 to 36529\n",
      "Data columns (total 4 columns):\n",
      "Neighborhood    32324 non-null object\n",
      "value_2015      32324 non-null int64\n",
      "value_2016      32324 non-null int64\n",
      "pct_inc16       32324 non-null float64\n",
      "dtypes: float64(1), int64(2), object(1)\n",
      "memory usage: 1.2+ MB\n"
     ]
    }
   ],
   "source": [
    "'''remove null values, zero home values'''\n",
    "df.dropna(axis=0, inplace=True)\n",
    "df = remove_rows(df, 'value_2015', 0)\n",
    "df = remove_rows(df, 'value_2016', 0)\n",
    "df = remove_outliers(df, 'pct_inc16', 3)\n",
    "df.info()"
   ]
  },
  {
   "cell_type": "markdown",
   "metadata": {},
   "source": [
    "### Find neighborhoods with maximum and minimum value increase between 2015 and 2015"
   ]
  },
  {
   "cell_type": "code",
   "execution_count": 13,
   "metadata": {
    "collapsed": false
   },
   "outputs": [
    {
     "name": "stdout",
     "output_type": "stream",
     "text": [
      "Sand Point has maximum value increase of 14.9%\n",
      "Industrial District has minimum value increase of 3.6%\n"
     ]
    }
   ],
   "source": [
    "grouped = df.groupby(['Neighborhood']).mean()\n",
    "hoods = np.array(grouped.index)\n",
    "pctincs = np.array(grouped['pct_inc16'])\n",
    "\n",
    "print '{} has maximum value increase of {}%'.format(hoods[pctincs == max(pctincs)][0], round(max(pctincs),1))\n",
    "print '{} has minimum value increase of {}%'.format(hoods[pctincs == min(pctincs)][0], round(min(pctincs),1))"
   ]
  },
  {
   "cell_type": "code",
   "execution_count": 14,
   "metadata": {
    "collapsed": false
   },
   "outputs": [
    {
     "data": {
      "image/png": "[encoded data removed]",
      "text/plain": [
       "<matplotlib.figure.Figure at 0x115225f50>"
      ]
     },
     "metadata": {},
     "output_type": "display_data"
    }
   ],
   "source": [
    "plt.boxplot(df['pct_inc16'])\n",
    "plt.show()"
   ]
  },
  {
   "cell_type": "code",
   "execution_count": 15,
   "metadata": {
    "collapsed": false
   },
   "outputs": [],
   "source": [
    "q1 = df.pct_inc16.quantile(0.25)\n",
    "q3 = df.pct_inc16.quantile(0.75)\n",
    "iqr = q3 - q1"
   ]
  },
  {
   "cell_type": "markdown",
   "metadata": {},
   "source": [
    "### Load building permit data and clean dataframe"
   ]
  },
  {
   "cell_type": "code",
   "execution_count": 17,
   "metadata": {
    "collapsed": false
   },
   "outputs": [],
   "source": [
    "df_permits = pd.read_csv('data/permitting.csv')  # Load the data from csv\n",
    "dates = pd.to_datetime(df_permits['Application Date'])  # Convert Application Date column to datetime\n",
    "df_permits['year'] = [d.year for d in dates]   # Retrieve year from date and add year column to dataframe"
   ]
  },
  {
   "cell_type": "code",
   "execution_count": 18,
   "metadata": {
    "collapsed": false
   },
   "outputs": [
    {
     "name": "stdout",
     "output_type": "stream",
     "text": [
      "      Application/Permit Number   Permit Type           Address  \\\n",
      "7121                    6504528  Construction    2700 4TH AVE S   \n",
      "7122                    6511706  Construction  9616 27TH AVE NW   \n",
      "7123                    6511726  Construction   5019 57TH AVE S   \n",
      "7124                    6511226  Construction  5520 17TH AVE NE   \n",
      "7125                    6511623  Construction   1413 E ALOHA ST   \n",
      "\n",
      "                                            Description  \\\n",
      "7121  Construct interior alterations to combine two ...   \n",
      "7122  Alterations to single family residence, subjec...   \n",
      "7123  Interior remodel to existing single family res...   \n",
      "7124  Construct alterations to basement of existing ...   \n",
      "7125  Construct repairs to a fire damaged single fam...   \n",
      "\n",
      "                    Category Action Type       Work Type       Value  \\\n",
      "7121              COMMERCIAL     ADD/ALT     Plan Review   $20000.00   \n",
      "7122  SINGLE FAMILY / DUPLEX     ADD/ALT  No plan review    $8000.00   \n",
      "7123  SINGLE FAMILY / DUPLEX     ADD/ALT  No plan review  $151000.00   \n",
      "7124  SINGLE FAMILY / DUPLEX     ADD/ALT  No plan review    $7000.00   \n",
      "7125  SINGLE FAMILY / DUPLEX     ADD/ALT  No plan review  $100000.00   \n",
      "\n",
      "       Applicant Name Application Date  Issue Date  Final Date  \\\n",
      "7121  BOZORTH, ROBERT       12/31/2015         NaN         NaN   \n",
      "7122   SIMONDS, DYLAN       12/31/2015  12/31/2015         NaN   \n",
      "7123   SCOFIELD, ALEX       12/31/2015  12/31/2015  07/28/2016   \n",
      "7124      CHOW, LYDIA       12/31/2015  12/31/2015  07/26/2016   \n",
      "7125    CHINN, SHELLY       12/31/2015  12/31/2015  05/19/2016   \n",
      "\n",
      "     Expiration Date             Status Contractor  \\\n",
      "7121             NaN  Reviews Completed        NaN   \n",
      "7122      06/30/2017      Permit Issued        NaN   \n",
      "7123      06/30/2017      Permit Closed        NaN   \n",
      "7124      06/30/2017      Permit Closed        NaN   \n",
      "7125      06/30/2017      Permit Closed        NaN   \n",
      "\n",
      "                        Permit and Complaint Status URL   Latitude  \\\n",
      "7121  http://web6.seattle.gov/dpd/PermitStatus/Proje...  47.579402   \n",
      "7122  http://web6.seattle.gov/dpd/PermitStatus/Proje...  47.699188   \n",
      "7123  http://web6.seattle.gov/dpd/PermitStatus/Proje...  47.556438   \n",
      "7124  http://web6.seattle.gov/dpd/PermitStatus/Proje...  47.669221   \n",
      "7125  http://web6.seattle.gov/dpd/PermitStatus/Proje...  47.626558   \n",
      "\n",
      "       Longitude                      Location    year  \n",
      "7121 -122.328491  (47.57940232, -122.32849072)  2015.0  \n",
      "7122 -122.392099   (47.6991885, -122.39209858)  2015.0  \n",
      "7123 -122.264005  (47.55643815, -122.26400533)  2015.0  \n",
      "7124 -122.309135  (47.66922134, -122.30913479)  2015.0  \n",
      "7125 -122.313917  (47.62655839, -122.31391727)  2015.0  \n"
     ]
    }
   ],
   "source": [
    "df_permits = df_permits[df_permits.year == 2015]  # keep all 2015 data\n",
    "df_permits.dropna(axis=0, subset=['Latitude', 'Longitude'], inplace=True)  # drop rows with no latitude and longitude\n",
    "print df_permits.head()"
   ]
  },
  {
   "cell_type": "code",
   "execution_count": null,
   "metadata": {
    "collapsed": false
   },
   "outputs": [],
   "source": []
  }
 ],
 "metadata": {
  "kernelspec": {
   "display_name": "Python 2",
   "language": "python",
   "name": "python2"
  },
  "language_info": {
   "codemirror_mode": {
    "name": "ipython",
    "version": 2
   },
   "file_extension": ".py",
   "mimetype": "text/x-python",
   "name": "python",
   "nbconvert_exporter": "python",
   "pygments_lexer": "ipython2",
   "version": "2.7.12"
  }
 },
 "nbformat": 4,
 "nbformat_minor": 0
}
