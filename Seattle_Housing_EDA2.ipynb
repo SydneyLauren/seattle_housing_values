{
 "cells": [
  {
   "cell_type": "code",
   "execution_count": 42,
   "metadata": {
    "collapsed": false
   },
   "outputs": [],
   "source": [
    "from __future__ import division\n",
    "import multiprocessing\n",
    "import pandas as pd\n",
    "import numpy as np\n",
    "import psycopg2\n",
    "import seattle_neighborhoods\n",
    "from sklearn.ensemble.gradient_boosting import GradientBoostingRegressor\n",
    "from sklearn.model_selection import train_test_split\n",
    "from sklearn.grid_search import GridSearchCV, RandomizedSearchCV\n",
    "from sklearn.preprocessing import StandardScaler\n",
    "import matplotlib.pyplot as plt\n",
    "%matplotlib inline"
   ]
  },
  {
   "cell_type": "code",
   "execution_count": 2,
   "metadata": {
    "collapsed": true
   },
   "outputs": [],
   "source": [
    "def database_connect(dbnm, username):\n",
    "    '''\n",
    "    INPUT: name of existing postgres database, username\n",
    "    OUTPUT: database connection and cursor\n",
    "    Take database name and username and establish conncetion to database\n",
    "    '''\n",
    "    conn = psycopg2.connect(dbname=dbnm, user=username, host='/tmp')\n",
    "    c = conn.cursor()\n",
    "    return conn, c"
   ]
  },
  {
   "cell_type": "code",
   "execution_count": 3,
   "metadata": {
    "collapsed": true
   },
   "outputs": [],
   "source": [
    "def remove_rows(df, colname, colval):\n",
    "    '''\n",
    "    INPUT: dataframe, column name, column value\n",
    "    OUTPUT: dataframe\n",
    "    take a dataframe and remove all rows in which the value for colname = colval\n",
    "    '''\n",
    "    return df[df[colname] != colval]"
   ]
  },
  {
   "cell_type": "code",
   "execution_count": 4,
   "metadata": {
    "collapsed": true
   },
   "outputs": [],
   "source": [
    "def remove_outliers(df, colname, iqr_mult):\n",
    "    '''\n",
    "    INPUT: dataframe, column name, multiplier for inter quartile range\n",
    "    OUTPUT: dataframe\n",
    "    take a dataframe and return a dataframe with outliers removed\n",
    "    '''\n",
    "    print colname\n",
    "    q1 = df[colname].quantile(.25)\n",
    "    q3 = df[colname].quantile(.75)\n",
    "    iqr = df[colname].quantile(.75) - df[colname].quantile(.25)  # calculate interquartile range\n",
    "    df = df[df[colname] >= q1 - iqr * iqr_mult]  # remove low outliers\n",
    "    df = df[df[colname] <= q3 + iqr * iqr_mult]  # remove high outliers\n",
    "    return df"
   ]
  },
  {
   "cell_type": "code",
   "execution_count": 5,
   "metadata": {
    "collapsed": false
   },
   "outputs": [],
   "source": [
    "def extract_from_database(dbname, user, table, cols):\n",
    "    '''\n",
    "    INPUT: database name, username, table name, columns to extract\n",
    "    OUTPUT: dataframe\n",
    "    take a postgres database, extract specified columns from it and return as a dataframe\n",
    "    '''\n",
    "    conn, c = database_connect('housingdata_clean', 'sydneydecoto')\n",
    "    df = pd.DataFrame()\n",
    "    for col in cols:\n",
    "        c.execute('SELECT {} FROM {}'.format(col, table))\n",
    "        df[col] = [val[0] for val in c.fetchall()]\n",
    "    conn.commit()\n",
    "    conn.close()\n",
    "    return df"
   ]
  },
  {
   "cell_type": "code",
   "execution_count": 23,
   "metadata": {
    "collapsed": false
   },
   "outputs": [
    {
     "name": "stdout",
     "output_type": "stream",
     "text": [
      "pct_inc16\n",
      "pct_inc15\n",
      "<class 'pandas.core.frame.DataFrame'>\n",
      "Int64Index: 31683 entries, 0 to 36529\n",
      "Data columns (total 11 columns):\n",
      "v2014        31683 non-null int64\n",
      "v2015        31683 non-null int64\n",
      "v2016        31683 non-null int64\n",
      "hood         31683 non-null object\n",
      "year         31683 non-null int64\n",
      "sq_ft        31683 non-null int64\n",
      "beds         31683 non-null int64\n",
      "baths        31683 non-null object\n",
      "lot_size     31683 non-null int64\n",
      "pct_inc15    31683 non-null float64\n",
      "pct_inc16    31683 non-null float64\n",
      "dtypes: float64(2), int64(7), object(2)\n",
      "memory usage: 2.9+ MB\n"
     ]
    }
   ],
   "source": [
    "# get columns from database\n",
    "params_list = ['v2014', 'v2015', 'v2016', 'hood', 'year', 'sq_ft', 'beds', 'baths', 'lot_size']\n",
    "df = extract_from_database('housingdata_clean', 'sydneydecoto', 'housing_data', params_list)\n",
    "\n",
    "# add columns for percent increase from 2014 to 2015 and percent increase from 2015 to 2016 (this will be y)\n",
    "df['pct_inc15'] = (df['v2015'] - df['v2014']) / df['v2014']*100.\n",
    "df['pct_inc16'] = (df['v2016'] - df['v2015']) / df['v2015']*100.\n",
    "\n",
    "'''remove bad data (null values, zero home values)'''\n",
    "df.dropna(axis=0, inplace=True)\n",
    "df = remove_rows(df, 'v2014', 0)\n",
    "df = remove_rows(df, 'v2015', 0)\n",
    "df = remove_rows(df, 'v2016', 0)\n",
    "df = remove_outliers(df, 'pct_inc16', 3)\n",
    "df = remove_outliers(df, 'pct_inc15', 3)\n",
    "df.info()"
   ]
  },
  {
   "cell_type": "code",
   "execution_count": 7,
   "metadata": {
    "collapsed": false
   },
   "outputs": [
    {
     "name": "stdout",
     "output_type": "stream",
     "text": [
      "Sand Point has maximum value increase of 14.9%\n",
      "Industrial District has minimum value increase of 3.3%\n"
     ]
    }
   ],
   "source": [
    "grouped = df.groupby(['hood']).mean()\n",
    "hoods = np.array(grouped.index)\n",
    "pctincs = np.array(grouped['pct_inc16'])\n",
    "\n",
    "print '{} has maximum value increase of {}%'.format(hoods[pctincs == max(pctincs)][0], round(max(pctincs),1))\n",
    "print '{} has minimum value increase of {}%'.format(hoods[pctincs == min(pctincs)][0], round(min(pctincs),1))"
   ]
  },
  {
   "cell_type": "code",
   "execution_count": 24,
   "metadata": {
    "collapsed": false
   },
   "outputs": [
    {
     "data": {
      "image/png": "[encoded data removed]",
      "text/plain": [
       "<matplotlib.figure.Figure at 0x11521b950>"
      ]
     },
     "metadata": {},
     "output_type": "display_data"
    }
   ],
   "source": [
    "plt.boxplot(df['pct_inc16'])\n",
    "plt.show()"
   ]
  },
  {
   "cell_type": "code",
   "execution_count": 25,
   "metadata": {
    "collapsed": false
   },
   "outputs": [],
   "source": [
    "q1 = df.pct_inc16.quantile(0.25)\n",
    "q3 = df.pct_inc16.quantile(0.75)\n",
    "iqr = q3 - q1"
   ]
  },
  {
   "cell_type": "code",
   "execution_count": 26,
   "metadata": {
    "collapsed": false
   },
   "outputs": [
    {
     "data": {
      "text/html": [
       "<div>\n",
       "<table border=\"1\" class=\"dataframe\">\n",
       "  <thead>\n",
       "    <tr style=\"text-align: right;\">\n",
       "      <th></th>\n",
       "      <th>Unnamed: 0</th>\n",
       "      <th>Application/Permit Number</th>\n",
       "      <th>Permit Type</th>\n",
       "      <th>Address</th>\n",
       "      <th>Description</th>\n",
       "      <th>Category</th>\n",
       "      <th>Action Type</th>\n",
       "      <th>Work Type</th>\n",
       "      <th>Value</th>\n",
       "      <th>Applicant Name</th>\n",
       "      <th>...</th>\n",
       "      <th>Final Date</th>\n",
       "      <th>Expiration Date</th>\n",
       "      <th>Status</th>\n",
       "      <th>Contractor</th>\n",
       "      <th>Permit and Complaint Status URL</th>\n",
       "      <th>Latitude</th>\n",
       "      <th>Longitude</th>\n",
       "      <th>Location</th>\n",
       "      <th>year</th>\n",
       "      <th>Neighborhood</th>\n",
       "    </tr>\n",
       "  </thead>\n",
       "  <tbody>\n",
       "    <tr>\n",
       "      <th>0</th>\n",
       "      <td>7121</td>\n",
       "      <td>6504528</td>\n",
       "      <td>Construction</td>\n",
       "      <td>2700 4TH AVE S</td>\n",
       "      <td>Construct interior alterations to combine two ...</td>\n",
       "      <td>COMMERCIAL</td>\n",
       "      <td>ADD/ALT</td>\n",
       "      <td>Plan Review</td>\n",
       "      <td>20000.0</td>\n",
       "      <td>BOZORTH, ROBERT</td>\n",
       "      <td>...</td>\n",
       "      <td>NaN</td>\n",
       "      <td>NaN</td>\n",
       "      <td>Reviews Completed</td>\n",
       "      <td>NaN</td>\n",
       "      <td>http://web6.seattle.gov/dpd/PermitStatus/Proje...</td>\n",
       "      <td>47.579402</td>\n",
       "      <td>-122.328491</td>\n",
       "      <td>(47.57940232, -122.32849072)</td>\n",
       "      <td>2015.0</td>\n",
       "      <td>Industrial District</td>\n",
       "    </tr>\n",
       "    <tr>\n",
       "      <th>1</th>\n",
       "      <td>7122</td>\n",
       "      <td>6511706</td>\n",
       "      <td>Construction</td>\n",
       "      <td>9616 27TH AVE NW</td>\n",
       "      <td>Alterations to single family residence, subjec...</td>\n",
       "      <td>SINGLE FAMILY / DUPLEX</td>\n",
       "      <td>ADD/ALT</td>\n",
       "      <td>No plan review</td>\n",
       "      <td>8000.0</td>\n",
       "      <td>SIMONDS, DYLAN</td>\n",
       "      <td>...</td>\n",
       "      <td>NaN</td>\n",
       "      <td>06/30/2017</td>\n",
       "      <td>Permit Issued</td>\n",
       "      <td>NaN</td>\n",
       "      <td>http://web6.seattle.gov/dpd/PermitStatus/Proje...</td>\n",
       "      <td>47.699188</td>\n",
       "      <td>-122.392099</td>\n",
       "      <td>(47.6991885, -122.39209858)</td>\n",
       "      <td>2015.0</td>\n",
       "      <td>North Beach/Blue Ridge</td>\n",
       "    </tr>\n",
       "    <tr>\n",
       "      <th>2</th>\n",
       "      <td>7123</td>\n",
       "      <td>6511726</td>\n",
       "      <td>Construction</td>\n",
       "      <td>5019 57TH AVE S</td>\n",
       "      <td>Interior remodel to existing single family res...</td>\n",
       "      <td>SINGLE FAMILY / DUPLEX</td>\n",
       "      <td>ADD/ALT</td>\n",
       "      <td>No plan review</td>\n",
       "      <td>151000.0</td>\n",
       "      <td>SCOFIELD, ALEX</td>\n",
       "      <td>...</td>\n",
       "      <td>07/28/2016</td>\n",
       "      <td>06/30/2017</td>\n",
       "      <td>Permit Closed</td>\n",
       "      <td>NaN</td>\n",
       "      <td>http://web6.seattle.gov/dpd/PermitStatus/Proje...</td>\n",
       "      <td>47.556438</td>\n",
       "      <td>-122.264005</td>\n",
       "      <td>(47.55643815, -122.26400533)</td>\n",
       "      <td>2015.0</td>\n",
       "      <td>Seward Park</td>\n",
       "    </tr>\n",
       "    <tr>\n",
       "      <th>3</th>\n",
       "      <td>7124</td>\n",
       "      <td>6511226</td>\n",
       "      <td>Construction</td>\n",
       "      <td>5520 17TH AVE NE</td>\n",
       "      <td>Construct alterations to basement of existing ...</td>\n",
       "      <td>SINGLE FAMILY / DUPLEX</td>\n",
       "      <td>ADD/ALT</td>\n",
       "      <td>No plan review</td>\n",
       "      <td>7000.0</td>\n",
       "      <td>CHOW, LYDIA</td>\n",
       "      <td>...</td>\n",
       "      <td>07/26/2016</td>\n",
       "      <td>06/30/2017</td>\n",
       "      <td>Permit Closed</td>\n",
       "      <td>NaN</td>\n",
       "      <td>http://web6.seattle.gov/dpd/PermitStatus/Proje...</td>\n",
       "      <td>47.669221</td>\n",
       "      <td>-122.309135</td>\n",
       "      <td>(47.66922134, -122.30913479)</td>\n",
       "      <td>2015.0</td>\n",
       "      <td>University District</td>\n",
       "    </tr>\n",
       "    <tr>\n",
       "      <th>4</th>\n",
       "      <td>7125</td>\n",
       "      <td>6511623</td>\n",
       "      <td>Construction</td>\n",
       "      <td>1413 E ALOHA ST</td>\n",
       "      <td>Construct repairs to a fire damaged single fam...</td>\n",
       "      <td>SINGLE FAMILY / DUPLEX</td>\n",
       "      <td>ADD/ALT</td>\n",
       "      <td>No plan review</td>\n",
       "      <td>100000.0</td>\n",
       "      <td>CHINN, SHELLY</td>\n",
       "      <td>...</td>\n",
       "      <td>05/19/2016</td>\n",
       "      <td>06/30/2017</td>\n",
       "      <td>Permit Closed</td>\n",
       "      <td>NaN</td>\n",
       "      <td>http://web6.seattle.gov/dpd/PermitStatus/Proje...</td>\n",
       "      <td>47.626558</td>\n",
       "      <td>-122.313917</td>\n",
       "      <td>(47.62655839, -122.31391727)</td>\n",
       "      <td>2015.0</td>\n",
       "      <td>Broadway</td>\n",
       "    </tr>\n",
       "  </tbody>\n",
       "</table>\n",
       "<p>5 rows × 22 columns</p>\n",
       "</div>"
      ],
      "text/plain": [
       "   Unnamed: 0  Application/Permit Number   Permit Type           Address  \\\n",
       "0        7121                    6504528  Construction    2700 4TH AVE S   \n",
       "1        7122                    6511706  Construction  9616 27TH AVE NW   \n",
       "2        7123                    6511726  Construction   5019 57TH AVE S   \n",
       "3        7124                    6511226  Construction  5520 17TH AVE NE   \n",
       "4        7125                    6511623  Construction   1413 E ALOHA ST   \n",
       "\n",
       "                                         Description                Category  \\\n",
       "0  Construct interior alterations to combine two ...              COMMERCIAL   \n",
       "1  Alterations to single family residence, subjec...  SINGLE FAMILY / DUPLEX   \n",
       "2  Interior remodel to existing single family res...  SINGLE FAMILY / DUPLEX   \n",
       "3  Construct alterations to basement of existing ...  SINGLE FAMILY / DUPLEX   \n",
       "4  Construct repairs to a fire damaged single fam...  SINGLE FAMILY / DUPLEX   \n",
       "\n",
       "  Action Type       Work Type     Value   Applicant Name  \\\n",
       "0     ADD/ALT     Plan Review   20000.0  BOZORTH, ROBERT   \n",
       "1     ADD/ALT  No plan review    8000.0   SIMONDS, DYLAN   \n",
       "2     ADD/ALT  No plan review  151000.0   SCOFIELD, ALEX   \n",
       "3     ADD/ALT  No plan review    7000.0      CHOW, LYDIA   \n",
       "4     ADD/ALT  No plan review  100000.0    CHINN, SHELLY   \n",
       "\n",
       "            ...            Final Date Expiration Date             Status  \\\n",
       "0           ...                   NaN             NaN  Reviews Completed   \n",
       "1           ...                   NaN      06/30/2017      Permit Issued   \n",
       "2           ...            07/28/2016      06/30/2017      Permit Closed   \n",
       "3           ...            07/26/2016      06/30/2017      Permit Closed   \n",
       "4           ...            05/19/2016      06/30/2017      Permit Closed   \n",
       "\n",
       "  Contractor                    Permit and Complaint Status URL   Latitude  \\\n",
       "0        NaN  http://web6.seattle.gov/dpd/PermitStatus/Proje...  47.579402   \n",
       "1        NaN  http://web6.seattle.gov/dpd/PermitStatus/Proje...  47.699188   \n",
       "2        NaN  http://web6.seattle.gov/dpd/PermitStatus/Proje...  47.556438   \n",
       "3        NaN  http://web6.seattle.gov/dpd/PermitStatus/Proje...  47.669221   \n",
       "4        NaN  http://web6.seattle.gov/dpd/PermitStatus/Proje...  47.626558   \n",
       "\n",
       "    Longitude                      Location    year            Neighborhood  \n",
       "0 -122.328491  (47.57940232, -122.32849072)  2015.0     Industrial District  \n",
       "1 -122.392099   (47.6991885, -122.39209858)  2015.0  North Beach/Blue Ridge  \n",
       "2 -122.264005  (47.55643815, -122.26400533)  2015.0             Seward Park  \n",
       "3 -122.309135  (47.66922134, -122.30913479)  2015.0     University District  \n",
       "4 -122.313917  (47.62655839, -122.31391727)  2015.0                Broadway  \n",
       "\n",
       "[5 rows x 22 columns]"
      ]
     },
     "execution_count": 26,
     "metadata": {},
     "output_type": "execute_result"
    }
   ],
   "source": [
    "permits_2015 = pd.read_csv('data/permits_2015.csv')\n",
    "permits_2015.columns\n",
    "\n",
    "permits_2015['Value'] = permits_2015['Value'].replace('[$]', '', regex=True).astype(float)\n",
    "permits_2015.head()"
   ]
  },
  {
   "cell_type": "code",
   "execution_count": 11,
   "metadata": {
    "collapsed": false
   },
   "outputs": [],
   "source": [
    "def get_permit_count(df, hood, category):\n",
    "    return df.loc[(df['Neighborhood'] == hood) & (df['Category'] == category), 'Value'].count()"
   ]
  },
  {
   "cell_type": "code",
   "execution_count": 12,
   "metadata": {
    "collapsed": true
   },
   "outputs": [],
   "source": [
    "def get_permit_sum(df, hood, category):\n",
    "    return df.loc[(df['Neighborhood'] == hood) & (df['Category'] == category), 'Value'].sum()"
   ]
  },
  {
   "cell_type": "code",
   "execution_count": 27,
   "metadata": {
    "collapsed": false
   },
   "outputs": [
    {
     "name": "stdout",
     "output_type": "stream",
     "text": [
      "     v2014    v2015    v2016            hood  year  sq_ft  beds baths  \\\n",
      "0   243000   273000   294000        Atlantic  1921    610     1  1.00   \n",
      "1  1065000  1318000  1443000     Portage Bay  1925   3970     4  3.00   \n",
      "2   171000   198000   227000   Highland Park  1942    750     2  1.00   \n",
      "3   301000   303000   337000      Holly Park  2005   1770     3  3.50   \n",
      "4   384000   420000   449000  Matthews Beach  1955   1410     3  1.00   \n",
      "\n",
      "   lot_size  pct_inc15  pct_inc16  \n",
      "0      3360  12.345679   7.692308  \n",
      "1      5500  23.755869   9.484067  \n",
      "2      4876  15.789474  14.646465  \n",
      "3      2253   0.664452  11.221122  \n",
      "4      5355   9.375000   6.904762  \n"
     ]
    }
   ],
   "source": [
    "print df.head()"
   ]
  },
  {
   "cell_type": "code",
   "execution_count": 14,
   "metadata": {
    "collapsed": false,
    "scrolled": false
   },
   "outputs": [
    {
     "data": {
      "text/html": [
       "<div>\n",
       "<table border=\"1\" class=\"dataframe\">\n",
       "  <thead>\n",
       "    <tr style=\"text-align: right;\">\n",
       "      <th></th>\n",
       "      <th>v2014</th>\n",
       "      <th>v2015</th>\n",
       "      <th>v2016</th>\n",
       "      <th>hood</th>\n",
       "      <th>year</th>\n",
       "      <th>sq_ft</th>\n",
       "      <th>beds</th>\n",
       "      <th>baths</th>\n",
       "      <th>lot_size</th>\n",
       "      <th>pct_inc15</th>\n",
       "      <th>...</th>\n",
       "      <th>comm_ct</th>\n",
       "      <th>sf_ct</th>\n",
       "      <th>mf_ct</th>\n",
       "      <th>inst_ct</th>\n",
       "      <th>ind_ct</th>\n",
       "      <th>comm_sum</th>\n",
       "      <th>sf_sum</th>\n",
       "      <th>mf_sum</th>\n",
       "      <th>inst_sum</th>\n",
       "      <th>ind_sum</th>\n",
       "    </tr>\n",
       "  </thead>\n",
       "  <tbody>\n",
       "    <tr>\n",
       "      <th>0</th>\n",
       "      <td>243000</td>\n",
       "      <td>273000</td>\n",
       "      <td>294000</td>\n",
       "      <td>Atlantic</td>\n",
       "      <td>1921</td>\n",
       "      <td>610</td>\n",
       "      <td>1</td>\n",
       "      <td>1.00</td>\n",
       "      <td>3360</td>\n",
       "      <td>12.345679</td>\n",
       "      <td>...</td>\n",
       "      <td>16</td>\n",
       "      <td>46</td>\n",
       "      <td>21</td>\n",
       "      <td>4</td>\n",
       "      <td>0</td>\n",
       "      <td>1655435.0</td>\n",
       "      <td>9356542.0</td>\n",
       "      <td>16484584.0</td>\n",
       "      <td>181000.0</td>\n",
       "      <td>0.0</td>\n",
       "    </tr>\n",
       "    <tr>\n",
       "      <th>1</th>\n",
       "      <td>1065000</td>\n",
       "      <td>1318000</td>\n",
       "      <td>1443000</td>\n",
       "      <td>Portage Bay</td>\n",
       "      <td>1925</td>\n",
       "      <td>3970</td>\n",
       "      <td>4</td>\n",
       "      <td>3.00</td>\n",
       "      <td>5500</td>\n",
       "      <td>23.755869</td>\n",
       "      <td>...</td>\n",
       "      <td>3</td>\n",
       "      <td>15</td>\n",
       "      <td>0</td>\n",
       "      <td>1</td>\n",
       "      <td>0</td>\n",
       "      <td>55000.0</td>\n",
       "      <td>2085082.0</td>\n",
       "      <td>0.0</td>\n",
       "      <td>2234000.0</td>\n",
       "      <td>0.0</td>\n",
       "    </tr>\n",
       "  </tbody>\n",
       "</table>\n",
       "<p>2 rows × 23 columns</p>\n",
       "</div>"
      ],
      "text/plain": [
       "     v2014    v2015    v2016         hood  year  sq_ft  beds baths  lot_size  \\\n",
       "0   243000   273000   294000     Atlantic  1921    610     1  1.00      3360   \n",
       "1  1065000  1318000  1443000  Portage Bay  1925   3970     4  3.00      5500   \n",
       "\n",
       "   pct_inc15   ...     comm_ct  sf_ct  mf_ct  inst_ct  ind_ct   comm_sum  \\\n",
       "0  12.345679   ...          16     46     21        4       0  1655435.0   \n",
       "1  23.755869   ...           3     15      0        1       0    55000.0   \n",
       "\n",
       "      sf_sum      mf_sum   inst_sum  ind_sum  \n",
       "0  9356542.0  16484584.0   181000.0      0.0  \n",
       "1  2085082.0         0.0  2234000.0      0.0  \n",
       "\n",
       "[2 rows x 23 columns]"
      ]
     },
     "execution_count": 14,
     "metadata": {},
     "output_type": "execute_result"
    }
   ],
   "source": [
    "chk = permits_2015.loc[(permits_2015['Neighborhood'] == 'Industrial District') &  (permits_2015['Category'] == 'COMMERCIAL'),'Value']\n",
    "chk = permits_2015.loc[(permits_2015['Neighborhood'] == 'Industrial District'),'Value']\n",
    "# get total number of permits in that neighborhood\n",
    "house_hoods = df['hood']\n",
    "total_permit_count = []\n",
    "total_permit_value = []\n",
    "comm_ct = []\n",
    "sf_ct = []\n",
    "mf_ct = []\n",
    "inst_ct = []\n",
    "ind_ct = []\n",
    "\n",
    "comm_sum = []\n",
    "sf_sum = []\n",
    "mf_sum = []\n",
    "inst_sum = []\n",
    "ind_sum = []\n",
    "for hood in house_hoods:\n",
    "    total_permit_count.append(permits_2015.loc[permits_2015['Neighborhood'] == hood, 'Value'].count())\n",
    "    total_permit_value.append(permits_2015.loc[permits_2015['Neighborhood'] == hood, 'Value'].sum())\n",
    "    \n",
    "    comm_ct.append(get_permit_count(permits_2015, hood, 'COMMERCIAL'))\n",
    "    sf_ct.append(get_permit_count(permits_2015, hood, 'SINGLE FAMILY / DUPLEX'))\n",
    "    mf_ct.append(get_permit_count(permits_2015, hood, 'MULTIFAMILY'))\n",
    "    inst_ct.append(get_permit_count(permits_2015, hood, 'INSTITUTIONAL'))\n",
    "    ind_ct.append(get_permit_count(permits_2015, hood, 'INDUSTRIAL'))\n",
    "    \n",
    "    comm_sum.append(get_permit_sum(permits_2015, hood, 'COMMERCIAL'))\n",
    "    sf_sum.append(get_permit_sum(permits_2015, hood, 'SINGLE FAMILY / DUPLEX'))\n",
    "    mf_sum.append(get_permit_sum(permits_2015, hood, 'MULTIFAMILY'))\n",
    "    inst_sum.append(get_permit_sum(permits_2015, hood, 'INSTITUTIONAL'))\n",
    "    ind_sum.append(get_permit_sum(permits_2015, hood, 'INDUSTRIAL'))\n",
    "\n",
    "df['total_permits'] = total_permit_count\n",
    "df['total_permit_val'] = total_permit_value\n",
    "df['comm_ct'] = comm_ct\n",
    "df['sf_ct'] = sf_ct\n",
    "df['mf_ct'] = mf_ct\n",
    "df['inst_ct'] = inst_ct\n",
    "df['ind_ct'] = ind_ct\n",
    "\n",
    "df['comm_sum'] = comm_sum\n",
    "df['sf_sum'] = sf_sum\n",
    "df['mf_sum'] = mf_sum\n",
    "df['inst_sum'] = inst_sum\n",
    "df['ind_sum'] = ind_sum\n",
    "df.head(2)"
   ]
  },
  {
   "cell_type": "code",
   "execution_count": 28,
   "metadata": {
    "collapsed": false
   },
   "outputs": [
    {
     "data": {
      "text/html": [
       "<div>\n",
       "<table border=\"1\" class=\"dataframe\">\n",
       "  <thead>\n",
       "    <tr style=\"text-align: right;\">\n",
       "      <th></th>\n",
       "      <th>v2014</th>\n",
       "      <th>v2015</th>\n",
       "      <th>v2016</th>\n",
       "      <th>hood</th>\n",
       "      <th>year</th>\n",
       "      <th>sq_ft</th>\n",
       "      <th>beds</th>\n",
       "      <th>baths</th>\n",
       "      <th>lot_size</th>\n",
       "      <th>pct_inc15</th>\n",
       "      <th>...</th>\n",
       "      <th>comm_ct</th>\n",
       "      <th>sf_ct</th>\n",
       "      <th>mf_ct</th>\n",
       "      <th>inst_ct</th>\n",
       "      <th>ind_ct</th>\n",
       "      <th>comm_sum</th>\n",
       "      <th>sf_sum</th>\n",
       "      <th>mf_sum</th>\n",
       "      <th>inst_sum</th>\n",
       "      <th>ind_sum</th>\n",
       "    </tr>\n",
       "  </thead>\n",
       "  <tbody>\n",
       "    <tr>\n",
       "      <th>0</th>\n",
       "      <td>243000</td>\n",
       "      <td>273000</td>\n",
       "      <td>294000</td>\n",
       "      <td>Atlantic</td>\n",
       "      <td>1921</td>\n",
       "      <td>610</td>\n",
       "      <td>1</td>\n",
       "      <td>1.00</td>\n",
       "      <td>3360</td>\n",
       "      <td>12.345679</td>\n",
       "      <td>...</td>\n",
       "      <td>16</td>\n",
       "      <td>46</td>\n",
       "      <td>21</td>\n",
       "      <td>4</td>\n",
       "      <td>0</td>\n",
       "      <td>1655435.0</td>\n",
       "      <td>9356542.0</td>\n",
       "      <td>16484584.0</td>\n",
       "      <td>181000.0</td>\n",
       "      <td>0.0</td>\n",
       "    </tr>\n",
       "    <tr>\n",
       "      <th>1</th>\n",
       "      <td>1065000</td>\n",
       "      <td>1318000</td>\n",
       "      <td>1443000</td>\n",
       "      <td>Portage Bay</td>\n",
       "      <td>1925</td>\n",
       "      <td>3970</td>\n",
       "      <td>4</td>\n",
       "      <td>3.00</td>\n",
       "      <td>5500</td>\n",
       "      <td>23.755869</td>\n",
       "      <td>...</td>\n",
       "      <td>3</td>\n",
       "      <td>15</td>\n",
       "      <td>0</td>\n",
       "      <td>1</td>\n",
       "      <td>0</td>\n",
       "      <td>55000.0</td>\n",
       "      <td>2085082.0</td>\n",
       "      <td>0.0</td>\n",
       "      <td>2234000.0</td>\n",
       "      <td>0.0</td>\n",
       "    </tr>\n",
       "  </tbody>\n",
       "</table>\n",
       "<p>2 rows × 23 columns</p>\n",
       "</div>"
      ],
      "text/plain": [
       "     v2014    v2015    v2016         hood  year  sq_ft  beds baths  lot_size  \\\n",
       "0   243000   273000   294000     Atlantic  1921    610     1  1.00      3360   \n",
       "1  1065000  1318000  1443000  Portage Bay  1925   3970     4  3.00      5500   \n",
       "\n",
       "   pct_inc15   ...     comm_ct  sf_ct  mf_ct  inst_ct  ind_ct   comm_sum  \\\n",
       "0  12.345679   ...          16     46     21        4       0  1655435.0   \n",
       "1  23.755869   ...           3     15      0        1       0    55000.0   \n",
       "\n",
       "      sf_sum      mf_sum   inst_sum  ind_sum  \n",
       "0  9356542.0  16484584.0   181000.0      0.0  \n",
       "1  2085082.0         0.0  2234000.0      0.0  \n",
       "\n",
       "[2 rows x 23 columns]"
      ]
     },
     "execution_count": 28,
     "metadata": {},
     "output_type": "execute_result"
    }
   ],
   "source": [
    "df['total_permits'] = total_permit_count\n",
    "df['total_permit_val'] = total_permit_value\n",
    "df['comm_ct'] = comm_ct\n",
    "df['sf_ct'] = sf_ct\n",
    "df['mf_ct'] = mf_ct\n",
    "df['inst_ct'] = inst_ct\n",
    "df['ind_ct'] = ind_ct\n",
    "\n",
    "df['comm_sum'] = comm_sum\n",
    "df['sf_sum'] = sf_sum\n",
    "df['mf_sum'] = mf_sum\n",
    "df['inst_sum'] = inst_sum\n",
    "df['ind_sum'] = ind_sum\n",
    "df.head(2)"
   ]
  },
  {
   "cell_type": "code",
   "execution_count": 35,
   "metadata": {
    "collapsed": false
   },
   "outputs": [],
   "source": [
    "df_hood = pd.get_dummies(df['hood'])\n",
    "df_new = pd.concat([df, df_hood], axis=1)\n",
    "df_new.drop('hood', axis=1, inplace=True)"
   ]
  },
  {
   "cell_type": "code",
   "execution_count": 36,
   "metadata": {
    "collapsed": true
   },
   "outputs": [],
   "source": [
    "y = df_new['pct_inc16']\n",
    "X = df_new.drop(['v2016', 'pct_inc16'], axis=1)"
   ]
  },
  {
   "cell_type": "code",
   "execution_count": 37,
   "metadata": {
    "collapsed": false,
    "scrolled": true
   },
   "outputs": [],
   "source": [
    "# X = StandardScaler().fit_transform(X)\n",
    "X_train, X_test, y_train, y_test = train_test_split(X, y, random_state=42)"
   ]
  },
  {
   "cell_type": "code",
   "execution_count": 39,
   "metadata": {
    "collapsed": false
   },
   "outputs": [
    {
     "name": "stdout",
     "output_type": "stream",
     "text": [
      "0.406679631994\n"
     ]
    }
   ],
   "source": [
    "model = GradientBoostingRegressor()\n",
    "model.fit(X_train, y_train)\n",
    "print model.score(X_test, y_test)"
   ]
  },
  {
   "cell_type": "code",
   "execution_count": 46,
   "metadata": {
    "collapsed": true
   },
   "outputs": [],
   "source": [
    "def grid_search(est, grid):\n",
    "    grid_cv = GridSearchCV(est, grid, n_jobs=-1, verbose=False).fit(X_train, y_train)\n",
    "    return grid_cv"
   ]
  },
  {
   "cell_type": "code",
   "execution_count": null,
   "metadata": {
    "collapsed": false
   },
   "outputs": [],
   "source": [
    "gd_grid = {'learning_rate': [.1, 0.06, 0.058, .056, .03],\n",
    "           'max_depth': [5, 10, 20, 30, 40, 50],\n",
    "           'min_samples_leaf': [1, 5, 10, 15, 20],\n",
    "           'max_features': [.9, 0.6, 0.25, 0.23, .2, .1, .01],\n",
    "           'n_estimators': [100],\n",
    "           'random_state': [1]}\n",
    "\n",
    "\n",
    "gd_grid_search = grid_search(GradientBoostingRegressor(), gd_grid)"
   ]
  },
  {
   "cell_type": "code",
   "execution_count": null,
   "metadata": {
    "collapsed": false
   },
   "outputs": [],
   "source": [
    "gd_best = gd_grid_search.best_estimator_\n",
    "gd_grid_search.best_params_"
   ]
  },
  {
   "cell_type": "code",
   "execution_count": 61,
   "metadata": {
    "collapsed": false
   },
   "outputs": [
    {
     "name": "stdout",
     "output_type": "stream",
     "text": [
      "0.602755924268\n"
     ]
    }
   ],
   "source": [
    "model = GradientBoostingRegressor(learning_rate=0.058, max_depth=30, max_features=0.23, min_samples_leaf=10,\n",
    "                                  n_estimators=100)\n",
    "model.fit(X_train, y_train)\n",
    "print model.score(X_test, y_test)"
   ]
  },
  {
   "cell_type": "code",
   "execution_count": null,
   "metadata": {
    "collapsed": true
   },
   "outputs": [],
   "source": []
  },
  {
   "cell_type": "markdown",
   "metadata": {},
   "source": [
    "### Load building permit data and clean dataframe"
   ]
  },
  {
   "cell_type": "code",
   "execution_count": null,
   "metadata": {
    "collapsed": false
   },
   "outputs": [],
   "source": [
    "# df_permits = pd.read_csv('data/permitting.csv')  # Load the data from csv\n",
    "# dates = pd.to_datetime(df_permits['Application Date'])  # Convert Application Date column to datetime\n",
    "# df_permits['year'] = [d.year for d in dates]   # Retrieve year from date and add year column to dataframe"
   ]
  },
  {
   "cell_type": "code",
   "execution_count": null,
   "metadata": {
    "collapsed": false
   },
   "outputs": [],
   "source": [
    "# df_permits = df_permits[df_permits.year == 2015]  # keep all 2015 data\n",
    "# df_permits.dropna(axis=0, subset=['Latitude', 'Longitude'], inplace=True)  # drop rows with no latitude and longitude\n",
    "# print df_permits.head()"
   ]
  },
  {
   "cell_type": "code",
   "execution_count": null,
   "metadata": {
    "collapsed": false
   },
   "outputs": [],
   "source": [
    "# lons = df_permits['Longitude']\n",
    "# lats = df_permits['Latitude']\n",
    "\n",
    "# print len(lons)\n",
    "# print len(lats)"
   ]
  },
  {
   "cell_type": "code",
   "execution_count": null,
   "metadata": {
    "collapsed": false
   },
   "outputs": [],
   "source": [
    "from __future__ import division\n",
    "import psycopg2\n",
    "import pandas as pd\n",
    "import numpy as np\n",
    "from matplotlib.patches import Polygon\n",
    "import matplotlib\n",
    "from matplotlib.collections import PatchCollection\n",
    "from mpl_toolkits.basemap import Basemap\n",
    "from shapely.geometry import Point, Polygon, MultiPoint, MultiPolygon\n",
    "from shapely.prepared import prep\n",
    "import fiona\n",
    "from descartes import PolygonPatch\n",
    "import matplotlib.pyplot as plt\n",
    "from collections import defaultdict\n",
    "# from matplotlib.path.Path import contains_points\n",
    "\n",
    "\n",
    "def parse_shapes(shapefilepath):\n",
    "    '''Read in a shape file (.shp) and return coordinates and dataframe for plotting'''\n",
    "    shp = fiona.open(shapefilepath+'.shp')\n",
    "    coords = shp.bounds\n",
    "    shp.close\n",
    "    return coords\n",
    "\n",
    "\n",
    "def plot_prepper(m, shapefilename, df_key):\n",
    "    '''Generate dataframe for plotting'''\n",
    "    _out = m.readshapefile(shapefilename, name='seattle', drawbounds=False, color='none', zorder=2)\n",
    "    # set up a map dataframe for neighborhood outlines\n",
    "    cent_lons = [float((Polygon(points).centroid.wkt).split()[1][1:]) for points in m.seattle]\n",
    "    cent_lats = [float((Polygon(points).centroid.wkt).strip(')').split()[2]) for points in m.seattle]\n",
    "\n",
    "    df = pd.DataFrame({\n",
    "        'poly': [Polygon(points) for points in m.seattle],\n",
    "        'name': [item[df_key] for item in m.seattle_info],\n",
    "    })\n",
    "    df['centroid_1'] = cent_lons\n",
    "    df['centroid_2'] = cent_lats\n",
    "    return _out, df\n",
    "\n",
    "# Read in neighborhood shape file\n",
    "\n",
    "hood_shapefilename = '/Users/sydneydecoto/Documents/PythonScripts/Neighborhoods/WGS84/Neighborhoods'\n",
    "hood_coords = parse_shapes(hood_shapefilename)\n",
    "\n",
    "w, h = hood_coords[2] - hood_coords[0], hood_coords[3] - hood_coords[1]\n",
    "extra = 0.005\n",
    "\n",
    "# Initialize the plot\n",
    "figwidth = 8\n",
    "fig = plt.figure(figsize=(figwidth, figwidth*h/w))\n",
    "ax = fig.add_subplot(111, axisbg='w', frame_on=False)\n",
    "m = Basemap(\n",
    "    projection='tmerc', ellps='WGS84',\n",
    "    lon_0=np.mean([hood_coords[0], hood_coords[2]]),\n",
    "    lat_0=np.mean([hood_coords[1], hood_coords[3]]),\n",
    "    llcrnrlon=hood_coords[0] - extra * w,\n",
    "    llcrnrlat=hood_coords[1] - (extra * h),\n",
    "    urcrnrlon=hood_coords[2] + extra * w,\n",
    "    urcrnrlat=hood_coords[3] + (extra * h),\n",
    "    resolution='i',  suppress_ticks=True)\n",
    "\n",
    "# get dataframe for plotting\n",
    "_out, df_map = plot_prepper(m, hood_shapefilename, 'S_HOOD')\n",
    "nbr_names = df_map['name'].unique()\n",
    "\n",
    "pt = []\n",
    "labels = []\n",
    "count = 0\n",
    "\n",
    "pt = [Point(m(mapped_x, mapped_y)) for mapped_x, mapped_y in zip(lons, lats)]\n",
    "\n",
    "# for mapped_x, mapped_y in zip(lons, lats):\n",
    "#     count = count + 1\n",
    "#     xpt, ypt = m(mapped_x, mapped_y)\n",
    "#     pt.append(Point(xpt, ypt))\n",
    "#     for polygon in df_map['poly']:\n",
    "#         nm = df_map.loc[df_map['poly'] == polygon, 'name'].iloc[0]\n",
    "#         if polygon.contains(Point(xpt, ypt)) and len(nm.strip()) >= 4:\n",
    "#             print count\n",
    "#             labels.append(nm)\n",
    "#             continue\n",
    "\n",
    "\n"
   ]
  },
  {
   "cell_type": "code",
   "execution_count": null,
   "metadata": {
    "collapsed": true
   },
   "outputs": [],
   "source": [
    "# def get_neighborhood(p):\n",
    "#     label = 'no neighborhood'\n",
    "#     for polygon in df_map['poly']:\n",
    "#         nm = df_map.loc[df_map['poly'] == polygon, 'name'].iloc[0]\n",
    "#         if polygon.contains(p) and len(nm.strip()) >= 4:\n",
    "#             print nm\n",
    "#             return nm\n",
    "#     return label"
   ]
  },
  {
   "cell_type": "code",
   "execution_count": null,
   "metadata": {
    "collapsed": false
   },
   "outputs": [],
   "source": [
    "# pool = multiprocessing.Pool(4)\n",
    "# output = pool.map(get_neighborhood, pt)"
   ]
  },
  {
   "cell_type": "code",
   "execution_count": null,
   "metadata": {
    "collapsed": false
   },
   "outputs": [],
   "source": []
  },
  {
   "cell_type": "code",
   "execution_count": null,
   "metadata": {
    "collapsed": false
   },
   "outputs": [],
   "source": [
    "# l = get_neighborhood(pt[0])"
   ]
  },
  {
   "cell_type": "raw",
   "metadata": {},
   "source": [
    "df_permits['Neighborhood'] = output"
   ]
  },
  {
   "cell_type": "code",
   "execution_count": null,
   "metadata": {
    "collapsed": false
   },
   "outputs": [],
   "source": [
    "# print l"
   ]
  },
  {
   "cell_type": "code",
   "execution_count": null,
   "metadata": {
    "collapsed": true
   },
   "outputs": [],
   "source": [
    "# df_permits['Neighborhood'] = output"
   ]
  },
  {
   "cell_type": "code",
   "execution_count": null,
   "metadata": {
    "collapsed": true
   },
   "outputs": [],
   "source": [
    "# df_permits.to_csv('data/permits_2015.csv')"
   ]
  },
  {
   "cell_type": "code",
   "execution_count": null,
   "metadata": {
    "collapsed": true
   },
   "outputs": [],
   "source": []
  }
 ],
 "metadata": {
  "kernelspec": {
   "display_name": "Python 2",
   "language": "python",
   "name": "python2"
  },
  "language_info": {
   "codemirror_mode": {
    "name": "ipython",
    "version": 2
   },
   "file_extension": ".py",
   "mimetype": "text/x-python",
   "name": "python",
   "nbconvert_exporter": "python",
   "pygments_lexer": "ipython2",
   "version": "2.7.12"
  }
 },
 "nbformat": 4,
 "nbformat_minor": 0
}
